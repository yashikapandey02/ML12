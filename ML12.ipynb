{
 "cells": [
  {
   "cell_type": "code",
   "execution_count": null,
   "id": "f8cf75a3",
   "metadata": {},
   "outputs": [],
   "source": [
    "1. What is prior probability? Give an example.\n",
    "\n",
    "Ans:Prior probability is calculated as the probability of an event before an experiment is performed using more data. In simple \n",
    "words, Prior probability is a part of Bayes theorem which is calculated as the probability of an event which is about to occur.\n",
    "\n",
    "Mathematically, it can be defined as the Probability of event A occurring. P(A).\n",
    "\n",
    "We can calculate the probability of getting afflicted with Covid-19 without any additional information would put us in a box and\n",
    "we would simply have to calculate the probability using the entire population of the world.\n"
   ]
  },
  {
   "cell_type": "code",
   "execution_count": null,
   "id": "83fb3952",
   "metadata": {},
   "outputs": [],
   "source": [
    "2. What is posterior probability? Give an example.\n",
    "\n",
    "Ans: Posterior probability is calculated as the probability of an event after adjusting the prior probability given the new \n",
    "    information.\n",
    "Mathematically, it can be defined as the Probability of event A (P(A)) given that event B has already occurred.\n",
    "\n",
    "In above example, with more information like the information regarding the country and state we wish to talk about for Covid-19\n",
    "infection, we will change or adjust our probability. In this case, probability calculated after getting more information is\n",
    "posterior probability.\n"
   ]
  },
  {
   "cell_type": "code",
   "execution_count": null,
   "id": "6a0eaf12",
   "metadata": {},
   "outputs": [],
   "source": [
    "3. What is likelihood probability? Give an example.\n",
    "\n",
    "P(x|c) is the likelihood which is the probability of predictor given class.\n"
   ]
  },
  {
   "cell_type": "code",
   "execution_count": 1,
   "id": "6b620533",
   "metadata": {},
   "outputs": [
    {
     "ename": "SyntaxError",
     "evalue": "invalid syntax (Temp/ipykernel_5320/2486353361.py, line 3)",
     "output_type": "error",
     "traceback": [
      "\u001b[1;36m  File \u001b[1;32m\"C:\\Users\\ITDA\\AppData\\Local\\Temp/ipykernel_5320/2486353361.py\"\u001b[1;36m, line \u001b[1;32m3\u001b[0m\n\u001b[1;33m    Naive Bayes classifier is a supervised machine learning model based on the Bayes Theorem. It is one of the probabilistic models that calculates the probability of a data point belonging to a certain class using features\u001b[0m\n\u001b[1;37m          ^\u001b[0m\n\u001b[1;31mSyntaxError\u001b[0m\u001b[1;31m:\u001b[0m invalid syntax\n"
     ]
    }
   ],
   "source": [
    "4. What is Naïve Bayes classifier? Why is it named so?\n",
    "\n",
    "Ans: Naive Bayes classifier is a supervised machine learning model based on the Bayes Theorem. It is one of the probabilistic \n",
    "models that calculates the probability of a data point belonging to a certain class using features\n",
    "\n",
    "It is named so because this algorithm relies on the assumption that all the features are independent amongst each other"
   ]
  },
  {
   "cell_type": "code",
   "execution_count": null,
   "id": "457b267b",
   "metadata": {},
   "outputs": [],
   "source": [
    "4. What is Naïve Bayes classifier? Why is it named so?\n",
    "\n",
    "Ans: Naive Bayes classifier is a supervised machine learning model based on the Bayes Theorem. It is one of the probabilistic \n",
    "    models that calculates the probability of a data point belonging to a certain class using features\n",
    "\n",
    "It is named so because this algorithm relies on the assumption that all the features are independent amongst each othe"
   ]
  },
  {
   "cell_type": "code",
   "execution_count": null,
   "id": "b7e785aa",
   "metadata": {},
   "outputs": [],
   "source": [
    "5. What is optimal Bayes classifier?\n",
    "\n",
    "Ans: The Bayes Optimal Classifier is a probabilistic model that makes the most probable prediction for a new example. Bayes\n",
    "    Optimal Classifier is a probabilistic model that finds the most probable prediction using the training data and space of \n",
    "    hypotheses to make a prediction for a new data instance.\n"
   ]
  },
  {
   "cell_type": "code",
   "execution_count": null,
   "id": "d6dbb909",
   "metadata": {},
   "outputs": [],
   "source": [
    "6. Write any two features of Bayesian learning methods.\n",
    "\n",
    "Ans:Increasing training data fed to a Bayesian learning model also increases the chances that a hypothesis made will be rejected\n",
    "    or failed to reject with high probability.\n"
   ]
  },
  {
   "cell_type": "code",
   "execution_count": null,
   "id": "aeda2bf5",
   "metadata": {},
   "outputs": [],
   "source": [
    "7. Define the concept of consistent learners.\n",
    "\n",
    "Ans: Consistent learners are those machine learning models that produce zero error over the training data with dimensionality \n",
    "    D. In other words, a consistent learning algorithm is required to provide a hypothesis that is consistent with the training \n",
    "    data fed\n"
   ]
  },
  {
   "cell_type": "code",
   "execution_count": null,
   "id": "f6056f1f",
   "metadata": {},
   "outputs": [],
   "source": [
    "8. Write any two strengths of Bayes classifier.\n",
    "\n",
    "Ans: It is fast and can be used for real time predictions.\n",
    "\n",
    "    It is easy to implement and comprehend.\n",
    "\n"
   ]
  },
  {
   "cell_type": "code",
   "execution_count": null,
   "id": "3096769e",
   "metadata": {},
   "outputs": [],
   "source": [
    "9. Write any two weaknesses of Bayes classifier.\n",
    "\n",
    "Ans: Bayesian classifiers are highly impacted by presence of imbalanced data.\n",
    "\n",
    "    Since Bayesian classifier starts with an assumption of all features being independent variables, the result can be far from\n",
    "    real life in cases. Additionally in terms of mathematics, the algorithm assigns 0 to the target variable class labels that\n",
    "    were not present in the training data but are present in test data.\n",
    "\n"
   ]
  },
  {
   "cell_type": "code",
   "execution_count": null,
   "id": "719b707b",
   "metadata": {},
   "outputs": [],
   "source": [
    "\n",
    "10. Explain how Naïve Bayes classifier is used for\n",
    "Ans:\n",
    "    1. Text classification\n",
    "\n",
    "Naive Bayes classifier works by calculating the posterior probability for class labels based on the feature values involved. \n",
    "Suppose that we have to do binary classification in the form a subjective or factual statement and the data preprocessing and \n",
    "data transformation has been performed such that the data is in Bag-Of-Words form as a document term matrix.\n",
    "\n",
    "Using the frequency of each word occurence in a document, the posterior probabilities are calculated using the Naive Bayes \n",
    "algorithm equation and the training is done. After training has been performed, the model can be used to calculate posterior\n",
    "probabilities for unseen data and the class label that gets the highest posterior probabilities is assigned as the prediction.\n",
    "\n",
    "Ultimately, the Naive Bayes classifier predicts probability of a data point if it belongs to one class label or another.\n",
    "\n",
    "2. Spam filtering\n",
    "\n",
    "Naive Bayes classifier works by calculating the posterior probability for class labels based on the feature values involved. \n",
    "Suppose that we have to do binary classification in the form of SPAM or HAM statement and the data preprocessing and data \n",
    "transformation has been performed such that the data is in Bag-Of-Words form as a document term matrix.\n",
    "\n",
    "Using the frequency of each word occurence in a document, the posterior probabilities are calculated using the Naive Bayes \n",
    "algorithm equation and the training is done. After training has been performed, the model can be used to calculate posterior\n",
    "probabilities for unseen data and the class label that gets the highest posterior probabilities is assigned as the prediction.\n",
    "\n",
    "Ultimately, the Naive Bayes classifier predicts probability of a data point if it belongs to SPAM class label or HAM class label.\n",
    "\n",
    "3. Market sentiment analysis\n",
    "\n",
    "Naive Bayes classifier works by calculating the posterior probability for class labels based on the feature values involved.\n",
    "Suppose that we have to do binary classification in the form of POSITIVE or NEGATIVE sentiment statement and the data \n",
    "preprocessing and data transformation has been performed such that the data is in Bag-Of-Words form as a document term matrix.\n",
    "\n",
    "Using the frequency of each word occurence in a document, the posterior probabilities are calculated using the Naive Bayes \n",
    "algorithm equation and the training is done. After training has been performed, the model can be used to calculate posterior\n",
    "probabilities for unseen data and the class label that gets the highest posterior probabilities is assigned as the prediction.\n",
    "\n",
    "Ultimately, the Naive Bayes classifier predicts probability of a data point if it belongs to POSITIVE sentiment class label or \n",
    "NEGATIVE sentiment class label.\n"
   ]
  }
 ],
 "metadata": {
  "kernelspec": {
   "display_name": "Python 3 (ipykernel)",
   "language": "python",
   "name": "python3"
  },
  "language_info": {
   "codemirror_mode": {
    "name": "ipython",
    "version": 3
   },
   "file_extension": ".py",
   "mimetype": "text/x-python",
   "name": "python",
   "nbconvert_exporter": "python",
   "pygments_lexer": "ipython3",
   "version": "3.9.7"
  }
 },
 "nbformat": 4,
 "nbformat_minor": 5
}
